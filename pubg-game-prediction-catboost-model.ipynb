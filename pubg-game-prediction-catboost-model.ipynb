{
 "cells": [
  {
   "cell_type": "markdown",
   "metadata": {
    "_cell_guid": "b1076dfc-b9ad-4769-8c92-a6c4dae69d19",
    "_uuid": "8f2839f25d086af736a60e9eeb907d3b93b6e0e5",
    "execution": {
     "iopub.execute_input": "2024-07-03T03:59:05.387959Z",
     "iopub.status.busy": "2024-07-03T03:59:05.387328Z",
     "iopub.status.idle": "2024-07-03T03:59:05.393797Z",
     "shell.execute_reply": "2024-07-03T03:59:05.392260Z",
     "shell.execute_reply.started": "2024-07-03T03:59:05.387914Z"
    }
   },
   "source": [
    "# <center><font color = \"green\">PUBG Game Prediction</font></center>\n"
   ]
  },
  {
   "cell_type": "markdown",
   "metadata": {},
   "source": [
    "<center><img src = \"https://media.giphy.com/media/XVbrX433vn6rqkexSj/giphy.gif\"></center>"
   ]
  },
  {
   "cell_type": "markdown",
   "metadata": {},
   "source": [
    "## <font color = \"green\">About Dataset:</font>\r\n",
    "\r\n",
    "In a PUBG game, up to 100 players start in each match (matchId). Players can be on teams (groupId) which get ranked at the end of the game (winPlacePerc) based on how many other teams are still alive when they are eliminated. In game, players can pick up different munitions, revive downed-but-not-out (knocked) teammates, drive vehicles, swim, run, shoot, and experience all of the consequences -- such as falling too far or running themselves over and eliminating themselves.\r\n",
    "\r\n",
    "You are provided with a large number of anonymized PUBG game stats, formatted so that each row contains one player's post-game stats. The data comes from matches of all types: solos, duos, squads, and custom; there is no guarantee of there being 100 players per match, nor at most 4 players per group.\r\n",
    "\r\n",
    "### <font color = \"green\">Link to dataset:</font>\r\n",
    "\r\n",
    " - Kaggle - https://www.kaggle.com/datasets/ashishjangra27/pubg-games-dataset\r\n",
    "\r\n",
    "## <font color = \"green\">Data Description:</font>\r\n",
    "\r\n",
    "- **DBNOs -** Number of enemy players knocked.\r\n",
    "- **assists -** Number of enemy players this player damaged that were killed by teammates.\r\n",
    "- **boosts -** Number of boost items used.\r\n",
    "- **damageDealt -** Total damage dealt. Note: Self inflicted damage is subtracted.\r\n",
    "- **headshotKills -** Number of enemy players killed with headshots.\r\n",
    "- **heals -** Number of healing items used.\r\n",
    "- **Id -** Player’s Id\r\n",
    "- **killPlace -** Ranking in match of number of enemy players killed.\r\n",
    "- **killPoints -** Kills-based external ranking of player. (Think of this as an Elo ranking where only kills matter.) If there is a value other than -1 in rankPoints, then any 0 in killPoints should be treated as a “None”.\r\n",
    "- **killStreaks -** Max number of enemy players killed in a short amount of time.\r\n",
    "- **kills -** Number of enemy players killed.\r\n",
    "- **longestKill -** Longest distance between player and player killed at time of death. This may be misleading, as downing a player and driving away may lead to a large longestKill stat.\r\n",
    "- **matchDuration -** Duration of match in seconds.\r\n",
    "- **matchId -** ID to identify match. There are no matches that are in both the training and testing set.\r\n",
    "- **matchType -** String identifying the game mode that the data comes from. The standard modes are “solo”, “duo”, “squad”, “solo-fpp”, “duo-fpp”, and “squad-fpp”; other modes are from events or custom matches.\r\n",
    "- **rankPoints -** Elo-like ranking of player. This ranking is inconsistent and is being deprecated in the API’s next version, so use with caution. Value of -1 takes place of “None”.\r\n",
    "- **revives -** Number of times this player revived teammates.\r\n",
    "- **rideDistance -** Total distance traveled in vehicles measured in meters.\r\n",
    "- **roadKills -** Number of kills while in a vehicle.\r\n",
    "- **swimDistance -** Total distance traveled by swimming measured in meters.\r\n",
    "- **teamKills -** Number of times this player killed a teammate.\r\n",
    "- **vehicleDestroys -** Number of vehicles destroyed.\r\n",
    "- **walkDistance -** Total distance traveled on foot measured in meters.- \r\n",
    "- **weaponsAcquired -** Number of weapons picked up.\r\n",
    "- **winPoints -** Win-based external ranking of player. (Think of this as an Elo ranking where only winning matters.) If there is a value other than -1 in rankPoints, then any 0 in winPoints should be treated as a “None”.\r\n",
    "- **groupId -** ID to identify a group within a match. If the same group of players plays in different matches, they will have a different groupId each time.\r\n",
    "- **numGroups -** Number of groups we have data for in the match.\r\n",
    "- **maxPlace -** Worst placement we have data for in the match. This may not match with numGroups, as sometimes the data skips over placements.\r\n",
    "- **winPlacePerc -** The target of prediction. This is a percentile winning placement, where 1 corresponds to 1st place, and 0 corresponds to last place in the match. It is calculated off of maxPlace, not numGroups, so it is possible to have missing chunks in a match.\r\n",
    "\r\n",
    "### <font color = \"green\">Tool and Libraries Used:</font>\r\n",
    "\r\n",
    "- **Tool:**\r\n",
    "  - Python 3.11.7\r\n",
    "- **Standard Libraries:**\r\n",
    "  - warnings\r\n",
    "  - numpy (imported as np)\r\n",
    "  - pandas (imported as pd)\r\n",
    "- **Visualization Libraries:**\r\n",
    "  - matplotlib.pyplot (imported as plt)\r\n",
    "  - seaborn (imported as sns)\r\n",
    "- **Machine Learning Libraries:**\r\n",
    "  - sklearn.preprocessing (specifically StandardScaler)\r\n",
    "  - sklearn.model_selection (specifically train_test_split)\r\n",
    "  - catboost (imported as cb)\r\n",
    "  - sklearn.metrics (specifically mean_squared_error and r2_score)"
   ]
  },
  {
   "cell_type": "markdown",
   "metadata": {},
   "source": [
    "### <font color = \"green\">Table of Content</font><a class = \"anchor\" id = \"content\"></a>\n",
    "\n",
    "1. [Importing Libraries](#import)\n",
    "2. [Reading the Data](#read)\n",
    "3. [Data Wrangling](#wrangle)\n",
    "4. [Feature Engineering](#feature)\n",
    "6. [ML - CatBoost Model](#cat)\n",
    "  - [CatBoost Model](#catboost)\n",
    "  - [Prediction](#prediction)"
   ]
  },
  {
   "cell_type": "markdown",
   "metadata": {},
   "source": [
    "# <font color = \"green\">Importing Libraries</font><a class = \"anchor\" id = \"import\"></a>"
   ]
  },
  {
   "cell_type": "code",
   "execution_count": 1,
   "metadata": {},
   "outputs": [],
   "source": [
    "## handling warnings\n",
    "\n",
    "import warnings\n",
    "warnings.filterwarnings(\"ignore\")\n",
    "\n",
    "##standard libraries\n",
    "\n",
    "import numpy as np # linear algebra\n",
    "import pandas as pd # data processing, CSV file I/O (e.g. pd.read_csv)\n",
    "\n",
    "## visualisation\n",
    "\n",
    "import matplotlib.pyplot as plt\n",
    "%matplotlib inline\n",
    "plt.rcParams[\"figure.figsize\"] = (11,5)\n",
    "\n",
    "import seaborn as sns\n",
    "\n",
    "from sklearn.preprocessing import StandardScaler\n",
    "from sklearn.model_selection import train_test_split\n",
    "\n",
    "## !pip install catboost (for jupyter/colab)\n",
    "\n",
    "import catboost as cb\n",
    "\n",
    "from sklearn.metrics import mean_squared_error\n",
    "from sklearn.metrics import r2_score"
   ]
  },
  {
   "cell_type": "markdown",
   "metadata": {},
   "source": [
    "[🔝](#content)"
   ]
  },
  {
   "cell_type": "markdown",
   "metadata": {},
   "source": [
    "# <font color = \"green\">Reading the Data </font><a class = \"anchor\" id = \"read\"></a>"
   ]
  },
  {
   "cell_type": "code",
   "execution_count": 2,
   "metadata": {},
   "outputs": [
    {
     "ename": "FileNotFoundError",
     "evalue": "[Errno 2] No such file or directory: 'pubg_game_prediction.csv'",
     "output_type": "error",
     "traceback": [
      "\u001b[1;31m---------------------------------------------------------------------------\u001b[0m",
      "\u001b[1;31mFileNotFoundError\u001b[0m                         Traceback (most recent call last)",
      "Cell \u001b[1;32mIn[2], line 3\u001b[0m\n\u001b[0;32m      1\u001b[0m \u001b[38;5;66;03m## load the data\u001b[39;00m\n\u001b[1;32m----> 3\u001b[0m df \u001b[38;5;241m=\u001b[39m pd\u001b[38;5;241m.\u001b[39mread_csv(\u001b[38;5;124m\"\u001b[39m\u001b[38;5;124mpubg_game_prediction.csv\u001b[39m\u001b[38;5;124m\"\u001b[39m)\n\u001b[0;32m      5\u001b[0m \u001b[38;5;66;03m## glimpse of the data\u001b[39;00m\n\u001b[0;32m      7\u001b[0m df\u001b[38;5;241m.\u001b[39mhead(\u001b[38;5;241m2\u001b[39m)\n",
      "File \u001b[1;32m~\\anaconda3\\Lib\\site-packages\\pandas\\io\\parsers\\readers.py:948\u001b[0m, in \u001b[0;36mread_csv\u001b[1;34m(filepath_or_buffer, sep, delimiter, header, names, index_col, usecols, dtype, engine, converters, true_values, false_values, skipinitialspace, skiprows, skipfooter, nrows, na_values, keep_default_na, na_filter, verbose, skip_blank_lines, parse_dates, infer_datetime_format, keep_date_col, date_parser, date_format, dayfirst, cache_dates, iterator, chunksize, compression, thousands, decimal, lineterminator, quotechar, quoting, doublequote, escapechar, comment, encoding, encoding_errors, dialect, on_bad_lines, delim_whitespace, low_memory, memory_map, float_precision, storage_options, dtype_backend)\u001b[0m\n\u001b[0;32m    935\u001b[0m kwds_defaults \u001b[38;5;241m=\u001b[39m _refine_defaults_read(\n\u001b[0;32m    936\u001b[0m     dialect,\n\u001b[0;32m    937\u001b[0m     delimiter,\n\u001b[1;32m   (...)\u001b[0m\n\u001b[0;32m    944\u001b[0m     dtype_backend\u001b[38;5;241m=\u001b[39mdtype_backend,\n\u001b[0;32m    945\u001b[0m )\n\u001b[0;32m    946\u001b[0m kwds\u001b[38;5;241m.\u001b[39mupdate(kwds_defaults)\n\u001b[1;32m--> 948\u001b[0m \u001b[38;5;28;01mreturn\u001b[39;00m _read(filepath_or_buffer, kwds)\n",
      "File \u001b[1;32m~\\anaconda3\\Lib\\site-packages\\pandas\\io\\parsers\\readers.py:611\u001b[0m, in \u001b[0;36m_read\u001b[1;34m(filepath_or_buffer, kwds)\u001b[0m\n\u001b[0;32m    608\u001b[0m _validate_names(kwds\u001b[38;5;241m.\u001b[39mget(\u001b[38;5;124m\"\u001b[39m\u001b[38;5;124mnames\u001b[39m\u001b[38;5;124m\"\u001b[39m, \u001b[38;5;28;01mNone\u001b[39;00m))\n\u001b[0;32m    610\u001b[0m \u001b[38;5;66;03m# Create the parser.\u001b[39;00m\n\u001b[1;32m--> 611\u001b[0m parser \u001b[38;5;241m=\u001b[39m TextFileReader(filepath_or_buffer, \u001b[38;5;241m*\u001b[39m\u001b[38;5;241m*\u001b[39mkwds)\n\u001b[0;32m    613\u001b[0m \u001b[38;5;28;01mif\u001b[39;00m chunksize \u001b[38;5;129;01mor\u001b[39;00m iterator:\n\u001b[0;32m    614\u001b[0m     \u001b[38;5;28;01mreturn\u001b[39;00m parser\n",
      "File \u001b[1;32m~\\anaconda3\\Lib\\site-packages\\pandas\\io\\parsers\\readers.py:1448\u001b[0m, in \u001b[0;36mTextFileReader.__init__\u001b[1;34m(self, f, engine, **kwds)\u001b[0m\n\u001b[0;32m   1445\u001b[0m     \u001b[38;5;28mself\u001b[39m\u001b[38;5;241m.\u001b[39moptions[\u001b[38;5;124m\"\u001b[39m\u001b[38;5;124mhas_index_names\u001b[39m\u001b[38;5;124m\"\u001b[39m] \u001b[38;5;241m=\u001b[39m kwds[\u001b[38;5;124m\"\u001b[39m\u001b[38;5;124mhas_index_names\u001b[39m\u001b[38;5;124m\"\u001b[39m]\n\u001b[0;32m   1447\u001b[0m \u001b[38;5;28mself\u001b[39m\u001b[38;5;241m.\u001b[39mhandles: IOHandles \u001b[38;5;241m|\u001b[39m \u001b[38;5;28;01mNone\u001b[39;00m \u001b[38;5;241m=\u001b[39m \u001b[38;5;28;01mNone\u001b[39;00m\n\u001b[1;32m-> 1448\u001b[0m \u001b[38;5;28mself\u001b[39m\u001b[38;5;241m.\u001b[39m_engine \u001b[38;5;241m=\u001b[39m \u001b[38;5;28mself\u001b[39m\u001b[38;5;241m.\u001b[39m_make_engine(f, \u001b[38;5;28mself\u001b[39m\u001b[38;5;241m.\u001b[39mengine)\n",
      "File \u001b[1;32m~\\anaconda3\\Lib\\site-packages\\pandas\\io\\parsers\\readers.py:1705\u001b[0m, in \u001b[0;36mTextFileReader._make_engine\u001b[1;34m(self, f, engine)\u001b[0m\n\u001b[0;32m   1703\u001b[0m     \u001b[38;5;28;01mif\u001b[39;00m \u001b[38;5;124m\"\u001b[39m\u001b[38;5;124mb\u001b[39m\u001b[38;5;124m\"\u001b[39m \u001b[38;5;129;01mnot\u001b[39;00m \u001b[38;5;129;01min\u001b[39;00m mode:\n\u001b[0;32m   1704\u001b[0m         mode \u001b[38;5;241m+\u001b[39m\u001b[38;5;241m=\u001b[39m \u001b[38;5;124m\"\u001b[39m\u001b[38;5;124mb\u001b[39m\u001b[38;5;124m\"\u001b[39m\n\u001b[1;32m-> 1705\u001b[0m \u001b[38;5;28mself\u001b[39m\u001b[38;5;241m.\u001b[39mhandles \u001b[38;5;241m=\u001b[39m get_handle(\n\u001b[0;32m   1706\u001b[0m     f,\n\u001b[0;32m   1707\u001b[0m     mode,\n\u001b[0;32m   1708\u001b[0m     encoding\u001b[38;5;241m=\u001b[39m\u001b[38;5;28mself\u001b[39m\u001b[38;5;241m.\u001b[39moptions\u001b[38;5;241m.\u001b[39mget(\u001b[38;5;124m\"\u001b[39m\u001b[38;5;124mencoding\u001b[39m\u001b[38;5;124m\"\u001b[39m, \u001b[38;5;28;01mNone\u001b[39;00m),\n\u001b[0;32m   1709\u001b[0m     compression\u001b[38;5;241m=\u001b[39m\u001b[38;5;28mself\u001b[39m\u001b[38;5;241m.\u001b[39moptions\u001b[38;5;241m.\u001b[39mget(\u001b[38;5;124m\"\u001b[39m\u001b[38;5;124mcompression\u001b[39m\u001b[38;5;124m\"\u001b[39m, \u001b[38;5;28;01mNone\u001b[39;00m),\n\u001b[0;32m   1710\u001b[0m     memory_map\u001b[38;5;241m=\u001b[39m\u001b[38;5;28mself\u001b[39m\u001b[38;5;241m.\u001b[39moptions\u001b[38;5;241m.\u001b[39mget(\u001b[38;5;124m\"\u001b[39m\u001b[38;5;124mmemory_map\u001b[39m\u001b[38;5;124m\"\u001b[39m, \u001b[38;5;28;01mFalse\u001b[39;00m),\n\u001b[0;32m   1711\u001b[0m     is_text\u001b[38;5;241m=\u001b[39mis_text,\n\u001b[0;32m   1712\u001b[0m     errors\u001b[38;5;241m=\u001b[39m\u001b[38;5;28mself\u001b[39m\u001b[38;5;241m.\u001b[39moptions\u001b[38;5;241m.\u001b[39mget(\u001b[38;5;124m\"\u001b[39m\u001b[38;5;124mencoding_errors\u001b[39m\u001b[38;5;124m\"\u001b[39m, \u001b[38;5;124m\"\u001b[39m\u001b[38;5;124mstrict\u001b[39m\u001b[38;5;124m\"\u001b[39m),\n\u001b[0;32m   1713\u001b[0m     storage_options\u001b[38;5;241m=\u001b[39m\u001b[38;5;28mself\u001b[39m\u001b[38;5;241m.\u001b[39moptions\u001b[38;5;241m.\u001b[39mget(\u001b[38;5;124m\"\u001b[39m\u001b[38;5;124mstorage_options\u001b[39m\u001b[38;5;124m\"\u001b[39m, \u001b[38;5;28;01mNone\u001b[39;00m),\n\u001b[0;32m   1714\u001b[0m )\n\u001b[0;32m   1715\u001b[0m \u001b[38;5;28;01massert\u001b[39;00m \u001b[38;5;28mself\u001b[39m\u001b[38;5;241m.\u001b[39mhandles \u001b[38;5;129;01mis\u001b[39;00m \u001b[38;5;129;01mnot\u001b[39;00m \u001b[38;5;28;01mNone\u001b[39;00m\n\u001b[0;32m   1716\u001b[0m f \u001b[38;5;241m=\u001b[39m \u001b[38;5;28mself\u001b[39m\u001b[38;5;241m.\u001b[39mhandles\u001b[38;5;241m.\u001b[39mhandle\n",
      "File \u001b[1;32m~\\anaconda3\\Lib\\site-packages\\pandas\\io\\common.py:863\u001b[0m, in \u001b[0;36mget_handle\u001b[1;34m(path_or_buf, mode, encoding, compression, memory_map, is_text, errors, storage_options)\u001b[0m\n\u001b[0;32m    858\u001b[0m \u001b[38;5;28;01melif\u001b[39;00m \u001b[38;5;28misinstance\u001b[39m(handle, \u001b[38;5;28mstr\u001b[39m):\n\u001b[0;32m    859\u001b[0m     \u001b[38;5;66;03m# Check whether the filename is to be opened in binary mode.\u001b[39;00m\n\u001b[0;32m    860\u001b[0m     \u001b[38;5;66;03m# Binary mode does not support 'encoding' and 'newline'.\u001b[39;00m\n\u001b[0;32m    861\u001b[0m     \u001b[38;5;28;01mif\u001b[39;00m ioargs\u001b[38;5;241m.\u001b[39mencoding \u001b[38;5;129;01mand\u001b[39;00m \u001b[38;5;124m\"\u001b[39m\u001b[38;5;124mb\u001b[39m\u001b[38;5;124m\"\u001b[39m \u001b[38;5;129;01mnot\u001b[39;00m \u001b[38;5;129;01min\u001b[39;00m ioargs\u001b[38;5;241m.\u001b[39mmode:\n\u001b[0;32m    862\u001b[0m         \u001b[38;5;66;03m# Encoding\u001b[39;00m\n\u001b[1;32m--> 863\u001b[0m         handle \u001b[38;5;241m=\u001b[39m \u001b[38;5;28mopen\u001b[39m(\n\u001b[0;32m    864\u001b[0m             handle,\n\u001b[0;32m    865\u001b[0m             ioargs\u001b[38;5;241m.\u001b[39mmode,\n\u001b[0;32m    866\u001b[0m             encoding\u001b[38;5;241m=\u001b[39mioargs\u001b[38;5;241m.\u001b[39mencoding,\n\u001b[0;32m    867\u001b[0m             errors\u001b[38;5;241m=\u001b[39merrors,\n\u001b[0;32m    868\u001b[0m             newline\u001b[38;5;241m=\u001b[39m\u001b[38;5;124m\"\u001b[39m\u001b[38;5;124m\"\u001b[39m,\n\u001b[0;32m    869\u001b[0m         )\n\u001b[0;32m    870\u001b[0m     \u001b[38;5;28;01melse\u001b[39;00m:\n\u001b[0;32m    871\u001b[0m         \u001b[38;5;66;03m# Binary mode\u001b[39;00m\n\u001b[0;32m    872\u001b[0m         handle \u001b[38;5;241m=\u001b[39m \u001b[38;5;28mopen\u001b[39m(handle, ioargs\u001b[38;5;241m.\u001b[39mmode)\n",
      "\u001b[1;31mFileNotFoundError\u001b[0m: [Errno 2] No such file or directory: 'pubg_game_prediction.csv'"
     ]
    }
   ],
   "source": [
    "## load the data\n",
    "\n",
    "df = pd.read_csv(\"pubg_game_prediction.csv\")\n",
    "\n",
    "## glimpse of the data\n",
    "\n",
    "df.head(2)"
   ]
  },
  {
   "cell_type": "code",
   "execution_count": null,
   "metadata": {},
   "outputs": [],
   "source": [
    "## data dimension\n",
    "\n",
    "df.shape"
   ]
  },
  {
   "cell_type": "code",
   "execution_count": null,
   "metadata": {},
   "outputs": [],
   "source": [
    "## data information\n",
    "\n",
    "df.info()"
   ]
  },
  {
   "cell_type": "markdown",
   "metadata": {},
   "source": [
    "[🔝](#content)"
   ]
  },
  {
   "cell_type": "markdown",
   "metadata": {
    "execution": {
     "iopub.execute_input": "2024-07-03T04:09:31.325863Z",
     "iopub.status.busy": "2024-07-03T04:09:31.324826Z",
     "iopub.status.idle": "2024-07-03T04:09:31.330617Z",
     "shell.execute_reply": "2024-07-03T04:09:31.329247Z",
     "shell.execute_reply.started": "2024-07-03T04:09:31.325822Z"
    }
   },
   "source": [
    "# <font color = \"green\">Data Wrangling</font><a class = \"anchor\" id = \"wrangle\"></a>"
   ]
  },
  {
   "cell_type": "markdown",
   "metadata": {},
   "source": [
    "#### Check for the rows with missing win prediction value"
   ]
  },
  {
   "cell_type": "code",
   "execution_count": null,
   "metadata": {},
   "outputs": [],
   "source": [
    "## check row with NULL win prediction value\n",
    "\n",
    "df[df['winPlacePerc'].isnull()]"
   ]
  },
  {
   "cell_type": "code",
   "execution_count": null,
   "metadata": {},
   "outputs": [],
   "source": [
    "## remove the data row - 2744604\n",
    "\n",
    "df.drop(2744604, inplace = True)"
   ]
  },
  {
   "cell_type": "markdown",
   "metadata": {},
   "source": [
    "#### Understanding Players distribution in a game"
   ]
  },
  {
   "cell_type": "code",
   "execution_count": null,
   "metadata": {},
   "outputs": [],
   "source": [
    "## prepare new parameter to know how many players are in a game\n",
    "\n",
    "df['playersJoined'] = df.groupby('matchId')['matchId'].transform('count')\n",
    "df.head(1)"
   ]
  },
  {
   "cell_type": "code",
   "execution_count": null,
   "metadata": {},
   "outputs": [],
   "source": [
    "## visualize matches where players joined >= 75\n",
    "\n",
    "sns.countplot(data = df[df['playersJoined']>=75],x = 'playersJoined')\n",
    "plt.show()"
   ]
  },
  {
   "cell_type": "markdown",
   "metadata": {},
   "source": [
    "###### Observation:\n",
    "The data for 75 and + people in a match is huge with maximum matches having 95-98 players"
   ]
  },
  {
   "cell_type": "markdown",
   "metadata": {},
   "source": [
    "## Analysing the data"
   ]
  },
  {
   "cell_type": "markdown",
   "metadata": {},
   "source": [
    "#### Kills Without Moving?\n",
    "\n",
    "###### It is not possible to kill even 1 player if you do not move by atleast 1 unit. Following are mostly used practices by cheaters (ones who interfere with the game's genuine natural processes):\n",
    "* Aimbots\n",
    "* Wallhacks\n",
    "* Triggerbots\n",
    "* ESP (Extra Sensory Perception)\n",
    "* Silent Aim"
   ]
  },
  {
   "cell_type": "code",
   "execution_count": null,
   "metadata": {},
   "outputs": [],
   "source": [
    "## prepare a data parameter to gather the information of the total distance travelled\n",
    "\n",
    "df['totalDistance'] = df['rideDistance'] + df['walkDistance'] + df['swimDistance']\n",
    "\n",
    "## prepare a data parameter to check for anamoly detection that\n",
    "## the person has not moved but still managed to do the kills\n",
    "\n",
    "df['killswithoutMoving'] = ((df['kills'] > 0) & (df['totalDistance'] == 0))"
   ]
  },
  {
   "cell_type": "code",
   "execution_count": null,
   "metadata": {},
   "outputs": [],
   "source": [
    "## check data for people who have killed without moving\n",
    "\n",
    "df[df['killswithoutMoving'] == True].head(2)"
   ]
  },
  {
   "cell_type": "code",
   "execution_count": null,
   "metadata": {},
   "outputs": [],
   "source": [
    "## check total kills without moving data\n",
    "\n",
    "df[df['killswithoutMoving'] == True].shape"
   ]
  },
  {
   "cell_type": "markdown",
   "metadata": {},
   "source": [
    "###### Observation:\n",
    "1535 instances have either used hacks or been lucky ! We cannot use such data (which cannot be generalised) for our model. Hence, dropping these instances."
   ]
  },
  {
   "cell_type": "code",
   "execution_count": null,
   "metadata": {},
   "outputs": [],
   "source": [
    "## drop the instances\n",
    "\n",
    "df.drop(df[df['killswithoutMoving'] == True].index , inplace = True)"
   ]
  },
  {
   "cell_type": "markdown",
   "metadata": {},
   "source": [
    "#### Extra-ordinary Road Kills !"
   ]
  },
  {
   "cell_type": "code",
   "execution_count": null,
   "metadata": {},
   "outputs": [],
   "source": [
    "## check data for roadkills > 5\n",
    "\n",
    "df[df['roadKills'] > 5].shape"
   ]
  },
  {
   "cell_type": "markdown",
   "metadata": {},
   "source": [
    "###### Observation:\n",
    "It takes to be expert among the other players in a match to kill by vehicles only. Hence dropping the 46 instances from data frame."
   ]
  },
  {
   "cell_type": "code",
   "execution_count": null,
   "metadata": {},
   "outputs": [],
   "source": [
    "## drop the instance\n",
    "\n",
    "df.drop(df[df['roadKills'] > 5].index, inplace = True)"
   ]
  },
  {
   "cell_type": "markdown",
   "metadata": {},
   "source": [
    "#### So many KILLS - how ???"
   ]
  },
  {
   "cell_type": "code",
   "execution_count": null,
   "metadata": {},
   "outputs": [],
   "source": [
    "## visualize data for No. of players | Kills\n",
    "\n",
    "sns.countplot(data = df, x = df['kills']).set_title(\"Distribution of KILLS by a player\")\n",
    "plt.ylabel(\"Count of players\")\n",
    "plt.xlabel(\"Number of Kills\")\n",
    "plt.show()"
   ]
  },
  {
   "cell_type": "markdown",
   "metadata": {},
   "source": [
    "###### Observation:\n",
    "Maximum people kills upto maximum 12 players."
   ]
  },
  {
   "cell_type": "code",
   "execution_count": null,
   "metadata": {},
   "outputs": [],
   "source": [
    "## visualize data for No. of players | Kills >= 15\n",
    "\n",
    "sns.countplot(data = df[df['kills']>=15],x='kills').set_title(\"Distribution of KILLS by a player\")\n",
    "plt.ylabel(\"Count of players\")\n",
    "plt.xlabel(\"Number of Kills\")\n",
    "plt.show()"
   ]
  },
  {
   "cell_type": "code",
   "execution_count": null,
   "metadata": {},
   "outputs": [],
   "source": [
    "## kills > 20 cannot be generalized\n",
    "\n",
    "df[df['kills'] > 20].shape"
   ]
  },
  {
   "cell_type": "markdown",
   "metadata": {},
   "source": [
    "###### Observation:\n",
    "Kills beyond 20 are rare and cannot be used a general use case. Hence, dropping the instance."
   ]
  },
  {
   "cell_type": "code",
   "execution_count": null,
   "metadata": {},
   "outputs": [],
   "source": [
    "## drop the instances\n",
    "\n",
    "df.drop(df[df['kills'] > 20].index, inplace = True)"
   ]
  },
  {
   "cell_type": "markdown",
   "metadata": {},
   "source": [
    "#### Head Shot"
   ]
  },
  {
   "cell_type": "markdown",
   "metadata": {},
   "source": [
    "<center><img src = \"https://media.giphy.com/media/l3mZrOajz5VCZf7Hy/giphy.gif\"></center>"
   ]
  },
  {
   "cell_type": "code",
   "execution_count": null,
   "metadata": {},
   "outputs": [],
   "source": [
    "## calculate headshot rate\n",
    "\n",
    "df['headshot_rate'] = df['headshotKills']/df['kills']\n",
    "\n",
    "## fill with 0 if there is not headshot\n",
    "\n",
    "df['headshot_rate'] = df['headshot_rate'].fillna(0)"
   ]
  },
  {
   "cell_type": "code",
   "execution_count": null,
   "metadata": {},
   "outputs": [],
   "source": [
    "## plot the headshot rate distribution\n",
    "\n",
    "sns.distplot(df['headshot_rate'], bins =10).set_title(\"Distplot showing the distribution of headshot rate\")\n",
    "plt.ylabel(\"Count of players\")\n",
    "plt.show()"
   ]
  },
  {
   "cell_type": "code",
   "execution_count": null,
   "metadata": {},
   "outputs": [],
   "source": [
    "## find headshot rate == 100% with kills > 5\n",
    "\n",
    "df[(df['headshot_rate'] == 1) & (df['kills'] > 5)].shape"
   ]
  },
  {
   "cell_type": "markdown",
   "metadata": {},
   "source": [
    "###### Observation\n",
    "Killing more than 5 people as headshots where all the shots in a match are headshots is mostly not a general case. 187 instances have such anomaly and hence, we will drop them."
   ]
  },
  {
   "cell_type": "code",
   "execution_count": null,
   "metadata": {},
   "outputs": [],
   "source": [
    "## droping the instances\n",
    "\n",
    "df.drop(df[(df['headshot_rate'] == 1) & (df['kills'] > 6)].index, inplace = True)"
   ]
  },
  {
   "cell_type": "markdown",
   "metadata": {},
   "source": [
    "#### Longest Shot\n",
    "\n",
    "###### The maximum possible distance that is made possible to snipe from in PUBG is 1km or 1000 meters. However, this is not general case and most of the times, hackers use either of the following to take advantage and win a match:\n",
    "* Sniper Aimbots\n",
    "* Bullet Speed/Trajectory Hacks\n",
    "* No Recoil/No Spread\n",
    "* Zoom Hacks"
   ]
  },
  {
   "cell_type": "code",
   "execution_count": null,
   "metadata": {},
   "outputs": [],
   "source": [
    "## visualize Number of people | Longest Kills\n",
    "\n",
    "sns.distplot(df['longestKill'], bins = 50).set_title(\"Histogram showing the Longest Kill Distribution\")\n",
    "plt.ylabel(\"Count of players\")\n",
    "plt.show()"
   ]
  },
  {
   "cell_type": "code",
   "execution_count": null,
   "metadata": {},
   "outputs": [],
   "source": [
    "## calculate instances with longestkill distance > 500 meters\n",
    "\n",
    "df[df['longestKill']>=500].shape"
   ]
  },
  {
   "cell_type": "markdown",
   "metadata": {},
   "source": [
    "###### Observation:\n",
    "1747 instances have kills > 500. hence, we will drop these."
   ]
  },
  {
   "cell_type": "code",
   "execution_count": null,
   "metadata": {},
   "outputs": [],
   "source": [
    "## dropping the instances\n",
    "\n",
    "df.drop(df[df['longestKill']>=500].index, inplace = True)"
   ]
  },
  {
   "cell_type": "markdown",
   "metadata": {},
   "source": [
    "#### Weapon Change\n",
    "\n",
    "###### In general, people change upto 10 guns in match (avg. being 5 to 6). But, cheaters sometimes use either of the following for unlimited recoil/ guns in a single match:\n",
    "* Macro Scripts\n",
    "* Rapid Fire Hacks\n",
    "* Input Spoofing"
   ]
  },
  {
   "cell_type": "code",
   "execution_count": null,
   "metadata": {},
   "outputs": [],
   "source": [
    "## visualize number of players | weapon change\n",
    "\n",
    "sns.distplot(df['weaponsAcquired'], bins=100).set_title(\"Weapons Distribution\")\n",
    "plt.show()"
   ]
  },
  {
   "cell_type": "code",
   "execution_count": null,
   "metadata": {},
   "outputs": [],
   "source": [
    "## calculate instances with weapons acquired > 15\n",
    "\n",
    "df[df['weaponsAcquired']>=15].shape"
   ]
  },
  {
   "cell_type": "markdown",
   "metadata": {},
   "source": [
    "##### Observation:\n",
    "In 6809 instances, people have changed gun more than 15 times in a match. Such is not a general the use case and hence, we will drop these values."
   ]
  },
  {
   "cell_type": "code",
   "execution_count": null,
   "metadata": {},
   "outputs": [],
   "source": [
    "## drop instance\n",
    "\n",
    "df.drop(df[df['weaponsAcquired']>=15].index, inplace = True)"
   ]
  },
  {
   "cell_type": "markdown",
   "metadata": {},
   "source": [
    "### Exploratory Data Analysis"
   ]
  },
  {
   "cell_type": "code",
   "execution_count": null,
   "metadata": {},
   "outputs": [],
   "source": [
    "## final shape\n",
    "\n",
    "df.shape"
   ]
  },
  {
   "cell_type": "code",
   "execution_count": null,
   "metadata": {},
   "outputs": [],
   "source": [
    "## total number of null values\n",
    "\n",
    "df.isna().sum()"
   ]
  },
  {
   "cell_type": "code",
   "execution_count": null,
   "metadata": {},
   "outputs": [],
   "source": [
    "## correlation of parameter with Win Prediction\n",
    "\n",
    "plt.figure(figsize=[30,30])\n",
    "sns.heatmap(df.corr(numeric_only = True), annot = True)\n",
    "plt.show()"
   ]
  },
  {
   "cell_type": "markdown",
   "metadata": {
    "execution": {
     "iopub.execute_input": "2024-07-03T07:32:49.377708Z",
     "iopub.status.busy": "2024-07-03T07:32:49.376846Z",
     "iopub.status.idle": "2024-07-03T07:32:49.388886Z",
     "shell.execute_reply": "2024-07-03T07:32:49.386488Z",
     "shell.execute_reply.started": "2024-07-03T07:32:49.377638Z"
    }
   },
   "source": [
    "[🔝](#content)"
   ]
  },
  {
   "cell_type": "markdown",
   "metadata": {},
   "source": [
    "# <font color = \"green\">Feature Engineering</font><a class = \"anchor\" id = \"feature\"></a>"
   ]
  },
  {
   "cell_type": "code",
   "execution_count": null,
   "metadata": {},
   "outputs": [],
   "source": [
    "## calculate normalization factor\n",
    "## (100-factor)/100 = 0 for matches including 100 players\n",
    "## use (100-factor)/100 + 1\n",
    "\n",
    "normalising_factor = (100 - df['playersJoined']/100)+1"
   ]
  },
  {
   "cell_type": "code",
   "execution_count": null,
   "metadata": {},
   "outputs": [],
   "source": [
    "## create new attributes with normalization factor\n",
    "\n",
    "df['killsNorm'] = df['kills'] * normalising_factor\n",
    "df['damageDealtNorm'] = df['damageDealt'] * normalising_factor\n",
    "df['maxPlaceNorm'] = df['maxPlace'] * normalising_factor\n",
    "df['matchDurationNorm'] = df['matchDuration'] * normalising_factor\n",
    "df['traveldistance'] = df['walkDistance']+ df['swimDistance'] + df['rideDistance']\n",
    "df['healsnboosts'] = df['heals'] + df['boosts']\n",
    "df['assist'] = df['assists'] + df['revives']"
   ]
  },
  {
   "cell_type": "code",
   "execution_count": null,
   "metadata": {},
   "outputs": [],
   "source": [
    "## analyze columns\n",
    "\n",
    "df.columns"
   ]
  },
  {
   "cell_type": "markdown",
   "metadata": {},
   "source": [
    "#### Removing unwanted columns"
   ]
  },
  {
   "cell_type": "code",
   "execution_count": null,
   "metadata": {},
   "outputs": [],
   "source": [
    "## not tampering the cleaned data, creating important dataset\n",
    "\n",
    "data = df.drop(columns = ['Id', 'groupId', 'matchId', 'assists', 'boosts', 'walkDistance', 'swimDistance',\n",
    "                          'rideDistance', 'heals', 'revives', 'kills', 'damageDealt', 'maxPlace', 'matchDuration'])"
   ]
  },
  {
   "cell_type": "code",
   "execution_count": null,
   "metadata": {},
   "outputs": [],
   "source": [
    "## check data dataframe\n",
    "\n",
    "data.head(2)"
   ]
  },
  {
   "cell_type": "markdown",
   "metadata": {},
   "source": [
    "# <font color = \"green\">ML - Catboost Model</font><a class = \"anchor\" id = \"cat\"></a>"
   ]
  },
  {
   "cell_type": "markdown",
   "metadata": {},
   "source": [
    "#### Handling categorical data"
   ]
  },
  {
   "cell_type": "code",
   "execution_count": null,
   "metadata": {},
   "outputs": [],
   "source": [
    "x = data.drop(['winPlacePerc'], axis = 1)\n",
    "y = data['winPlacePerc']"
   ]
  },
  {
   "cell_type": "markdown",
   "metadata": {},
   "source": [
    "#### One-hot Encoding"
   ]
  },
  {
   "cell_type": "code",
   "execution_count": null,
   "metadata": {},
   "outputs": [],
   "source": [
    "x = pd.get_dummies(x, columns = ['matchType', 'killswithoutMoving'])\n",
    "x = x.applymap(lambda x: int(x) if isinstance(x, bool) else x)\n",
    "x.head()"
   ]
  },
  {
   "cell_type": "code",
   "execution_count": null,
   "metadata": {},
   "outputs": [],
   "source": [
    "features = x.columns"
   ]
  },
  {
   "cell_type": "markdown",
   "metadata": {},
   "source": [
    "#### Scaling the data"
   ]
  },
  {
   "cell_type": "code",
   "execution_count": null,
   "metadata": {},
   "outputs": [],
   "source": [
    "## prevent model from giving undue preference\n",
    "## to instances with higher values\n",
    "\n",
    "sc = StandardScaler()\n",
    "sc.fit(x)\n",
    "x = pd.DataFrame(sc.transform(x))\n",
    "x.head(2)"
   ]
  },
  {
   "cell_type": "markdown",
   "metadata": {},
   "source": [
    "#### Splitting data"
   ]
  },
  {
   "cell_type": "code",
   "execution_count": null,
   "metadata": {},
   "outputs": [],
   "source": [
    "## train and test within the single file\n",
    "\n",
    "xtrain, xtest, ytrain, ytest = train_test_split(x, y, test_size = 0.3, random_state = 0)\n",
    "print(xtrain.shape, ytrain.shape)\n",
    "print(xtest.shape, ytest.shape)"
   ]
  },
  {
   "cell_type": "markdown",
   "metadata": {},
   "source": [
    "##### Check:\n",
    "<font  color = \"Green\">**Training Parameters:**</font> **3105414** <br>\n",
    "<font  color = \"Green\">**Testing Parameters:**</font> **1330892** <br>"
   ]
  },
  {
   "cell_type": "markdown",
   "metadata": {},
   "source": [
    "### <font color = \"blue\">CatBoost Model</font><a class = \"anchor\" id = \"catboost\"></a>"
   ]
  },
  {
   "cell_type": "code",
   "execution_count": null,
   "metadata": {},
   "outputs": [],
   "source": [
    "train_dataset = cb.Pool(xtrain, ytrain)\n",
    "test_dataset = cb.Pool(xtest, ytest)"
   ]
  },
  {
   "cell_type": "code",
   "execution_count": null,
   "metadata": {},
   "outputs": [],
   "source": [
    "model = cb.CatBoostRegressor(loss_function='RMSE')"
   ]
  },
  {
   "cell_type": "code",
   "execution_count": null,
   "metadata": {
    "scrolled": true
   },
   "outputs": [],
   "source": [
    "## GRID search\n",
    "## run model one by one on all combinations\n",
    "## return the best parameter combination\n",
    "\n",
    "grid = {'iterations': [100, 150], \n",
    "       'learning_rate': [0.03, 0.1], \n",
    "       'depth': [2, 4, 6, 8]} ## runs 16 combinations here\n",
    "\n",
    "model.grid_search(grid, train_dataset)"
   ]
  },
  {
   "cell_type": "markdown",
   "metadata": {},
   "source": [
    "###### Observations:\r\n",
    "Our model has prepare final data after Kfold cross validation.\r\n",
    "\r\n",
    "**Best Parameters:**\r\n",
    " - 'depth': 8\r\n",
    " - 'learning_rate': 0.1\r\n",
    " - 'iterations': 150}\r\n",
    " - 'iterations': [0,....149]"
   ]
  },
  {
   "cell_type": "code",
   "execution_count": null,
   "metadata": {},
   "outputs": [],
   "source": [
    "feature_importance_df = pd.DataFrame()\n",
    "feature_importance_df['features'] = features\n",
    "feature_importance_df['importance'] = model.feature_importances_\n",
    "\n",
    "feature_importance_df = feature_importance_df.sort_values(by = ['importance'], ascending=False)\n",
    "feature_importance_df"
   ]
  },
  {
   "cell_type": "code",
   "execution_count": null,
   "metadata": {},
   "outputs": [],
   "source": [
    "plt.figure(figsize=(10, 6))  # Adjust the figure size if needed\n",
    "\n",
    "# Set the background color of the graph\n",
    "plt.gca().set_facecolor('green')\n",
    "\n",
    "# Plot the bar chart with specified colors\n",
    "bars = plt.bar(feature_importance_df.features, feature_importance_df.importance, color='yellow', edgecolor='white')\n",
    "\n",
    "# Set the labels and their colors\n",
    "plt.ylabel(\"CatBoost Feature Importance\", color='black')\n",
    "plt.xticks(rotation=90, color='black')\n",
    "plt.yticks(color='black')\n",
    "\n",
    "# Display the plot\n",
    "plt.show()"
   ]
  },
  {
   "cell_type": "markdown",
   "metadata": {},
   "source": [
    "###### Observation:\n",
    "The model can be trained dropping the following parameters:\n",
    "\n",
    "* matchType_normal-squad\n",
    "* vehicleDestroys\n",
    "* headshot_rate\n",
    "* matchType_normal-solo\n",
    "* matchType_normal-solo-fpp\n",
    "* matchType_crashtpp\n",
    "* matchType_normal-duo-fpp\n",
    "* matchType_normal-duo\n",
    "* matchType_flarefpp\n",
    "* headshotKills\n",
    "* killswithoutMoving_False"
   ]
  },
  {
   "cell_type": "markdown",
   "metadata": {},
   "source": [
    "## <font color = \"Blue\">Prediction</font><a class = \"anchor\" id = \"catboost\"></a>"
   ]
  },
  {
   "cell_type": "code",
   "execution_count": null,
   "metadata": {},
   "outputs": [],
   "source": [
    "pred = model.predict(xtest)"
   ]
  },
  {
   "cell_type": "code",
   "execution_count": null,
   "metadata": {},
   "outputs": [],
   "source": [
    "## evaluate model\n",
    "\n",
    "rmse = np.sqrt(mean_squared_error(ytest, pred)) ## percentage of error\n",
    "r2 = r2_score(ytest, pred) ## needs to be high closer to 1 (ranging from 0 to 1)\n",
    "\n",
    "print(\"Testing performance\")\n",
    "\n",
    "print(\"RMSE: {:.2f}\".format(rmse))\n",
    "print(\"R2: {:.2f}\".format(r2))"
   ]
  },
  {
   "cell_type": "markdown",
   "metadata": {},
   "source": [
    "###### Observation:\n",
    "An 8% error with r2 Value closer to 1, which means the model accuracy is high without being overfitting."
   ]
  },
  {
   "cell_type": "markdown",
   "metadata": {},
   "source": [
    "Hence,\n",
    "<center>\n",
    "  <img src=\"https://media.giphy.com/media/KB89dMAtH79VIvxNCW/giphy.gif\" style=\"width:80%; height:400px;\">\n",
    "</center>\n"
   ]
  },
  {
   "cell_type": "markdown",
   "metadata": {},
   "source": [
    "I hope you found this analysis of PUBG game ranking prediction using the CatBoost model both comprehensive and insightful! With an RSME of 0.08 and an R² score close to 1, the model demonstrates high accuracy in predicting player rankings.<br><br>\n",
    "Your feedback is invaluable, please share your thoughts if you enjoyed it. \n",
    "<br><br>\n",
    "Check out more such projects [here](https://github.com/sho-das)! 😄😅\n",
    "<br><br>\n",
    "[🔝](#content)"
   ]
  }
 ],
 "metadata": {
  "kaggle": {
   "accelerator": "none",
   "dataSources": [
    {
     "datasetId": 2634885,
     "sourceId": 4508299,
     "sourceType": "datasetVersion"
    }
   ],
   "dockerImageVersionId": 30732,
   "isGpuEnabled": false,
   "isInternetEnabled": true,
   "language": "python",
   "sourceType": "notebook"
  },
  "kernelspec": {
   "display_name": "Python 3 (ipykernel)",
   "language": "python",
   "name": "python3"
  },
  "language_info": {
   "codemirror_mode": {
    "name": "ipython",
    "version": 3
   },
   "file_extension": ".py",
   "mimetype": "text/x-python",
   "name": "python",
   "nbconvert_exporter": "python",
   "pygments_lexer": "ipython3",
   "version": "3.11.7"
  }
 },
 "nbformat": 4,
 "nbformat_minor": 4
}
